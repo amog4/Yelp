{
 "cells": [
  {
   "cell_type": "code",
   "execution_count": 260,
   "metadata": {},
   "outputs": [],
   "source": [
    "#### Yelp dataset #####"
   ]
  },
  {
   "cell_type": "markdown",
   "metadata": {},
   "source": [
    "This dataset is a subset of Yelp's businesses, reviews, and user data. It was originally put together for the Yelp Dataset Challenge which is a chance for students to conduct research or analysis on Yelp's data and share their discoveries. In the dataset you'll find information about businesses across 11 metropolitan areas in four countries."
   ]
  },
  {
   "cell_type": "raw",
   "metadata": {},
   "source": [
    "Content\n",
    "This dataset contains seven CSV files. The original JSON files can be found in yelp_academic_dataset.zip. \n",
    "\n",
    "You may find this documentation helpful:\n",
    "https://www.yelp.com/dataset/documentation/json\n",
    "\n",
    "In total, there are :\n",
    "\n",
    "5,200,000 user reviews\n",
    "Information on 174,000 businesses\n",
    "The data spans 11 metropolitan areas\n"
   ]
  },
  {
   "cell_type": "raw",
   "metadata": {},
   "source": [
    "Natural Language Processing & Sentiment Analysis\n",
    "What's in a review? Is it positive or negative? Yelp's reviews contain a lot of metadata that can be mined and used to infer meaning, business attributes, and sentiment."
   ]
  },
  {
   "cell_type": "code",
   "execution_count": 261,
   "metadata": {},
   "outputs": [],
   "source": [
    "# road map for review analysis"
   ]
  },
  {
   "cell_type": "code",
   "execution_count": 262,
   "metadata": {},
   "outputs": [],
   "source": [
    "# underating the variable\n",
    "# understand the business requirments\n",
    "# make statistical analysis\n",
    "# make hyphothesis\n",
    "# validate the hyphothesis\n",
    "# create visualizations\n",
    "# pre process the data\n",
    "# create text visulaization\n",
    "# build model\n"
   ]
  },
  {
   "cell_type": "code",
   "execution_count": 263,
   "metadata": {},
   "outputs": [],
   "source": [
    "import numpy as np # has math related functions\n",
    "import pandas as pd # dataframes and data analysis\n",
    "import matplotlib.pyplot as plt\n",
    "import seaborn as sns # visualizations\n"
   ]
  },
  {
   "cell_type": "code",
   "execution_count": 264,
   "metadata": {},
   "outputs": [],
   "source": [
    "# read the dataset"
   ]
  },
  {
   "cell_type": "code",
   "execution_count": 265,
   "metadata": {},
   "outputs": [],
   "source": [
    "#data = pd.read_csv('D:/AMOGH/yelp_review.csv',nrows = 100000)\n"
   ]
  },
  {
   "cell_type": "code",
   "execution_count": 266,
   "metadata": {},
   "outputs": [],
   "source": [
    "#data_business = pd.read_csv('D:/AMOGH/yelp_business.csv')"
   ]
  },
  {
   "cell_type": "code",
   "execution_count": 267,
   "metadata": {},
   "outputs": [],
   "source": [
    "#data_business.columns"
   ]
  },
  {
   "cell_type": "code",
   "execution_count": 268,
   "metadata": {},
   "outputs": [],
   "source": [
    "#data_attributes = pd.read_csv('D:/Amogh/yelp_business_attributes.csv')"
   ]
  },
  {
   "cell_type": "code",
   "execution_count": 269,
   "metadata": {},
   "outputs": [],
   "source": [
    "#data_attributes.columns"
   ]
  },
  {
   "cell_type": "code",
   "execution_count": 270,
   "metadata": {},
   "outputs": [],
   "source": [
    "#data_business['categories'][5]"
   ]
  },
  {
   "cell_type": "code",
   "execution_count": 271,
   "metadata": {},
   "outputs": [
    {
     "data": {
      "text/plain": [
       "\"ids =[]\\n\\n\\nfor i in range(0,174567):\\n    for x in data_business['categories'][i].split(';'):\\n        if x == 'Restaurants':\\n            ids.append(i)\""
      ]
     },
     "execution_count": 271,
     "metadata": {},
     "output_type": "execute_result"
    }
   ],
   "source": [
    "\"\"\"ids =[]\n",
    "\n",
    "\n",
    "for i in range(0,174567):\n",
    "    for x in data_business['categories'][i].split(';'):\n",
    "        if x == 'Restaurants':\n",
    "            ids.append(i)\"\"\""
   ]
  },
  {
   "cell_type": "code",
   "execution_count": null,
   "metadata": {},
   "outputs": [],
   "source": []
  },
  {
   "cell_type": "code",
   "execution_count": 272,
   "metadata": {},
   "outputs": [],
   "source": [
    "#data_ids = data_business[data_business.index.map(lambda x:x in ids)]"
   ]
  },
  {
   "cell_type": "code",
   "execution_count": 273,
   "metadata": {
    "scrolled": false
   },
   "outputs": [],
   "source": [
    "#data_ids.shape"
   ]
  },
  {
   "cell_type": "code",
   "execution_count": 274,
   "metadata": {},
   "outputs": [],
   "source": [
    "#data_attributes_business = pd.merge(data_ids,data_attributes,on='business_id')"
   ]
  },
  {
   "cell_type": "code",
   "execution_count": 275,
   "metadata": {},
   "outputs": [],
   "source": [
    "#data_attributes_business.shape"
   ]
  },
  {
   "cell_type": "code",
   "execution_count": 276,
   "metadata": {},
   "outputs": [],
   "source": [
    "#data_all = pd.merge(data,data_attributes_business,on=['business_id'])"
   ]
  },
  {
   "cell_type": "code",
   "execution_count": 277,
   "metadata": {},
   "outputs": [],
   "source": [
    "#data_all = data_all.sample(20000)"
   ]
  },
  {
   "cell_type": "code",
   "execution_count": 278,
   "metadata": {
    "scrolled": false
   },
   "outputs": [],
   "source": [
    "#data_all['categories'][10]"
   ]
  },
  {
   "cell_type": "code",
   "execution_count": 279,
   "metadata": {},
   "outputs": [],
   "source": [
    "#data_all.to_csv('D:/AMOGH/yelp_resta')"
   ]
  },
  {
   "cell_type": "code",
   "execution_count": 280,
   "metadata": {},
   "outputs": [],
   "source": [
    "data_all = pd.read_csv('D:/AMOGH/yelp_resta')"
   ]
  },
  {
   "cell_type": "code",
   "execution_count": 281,
   "metadata": {},
   "outputs": [
    {
     "data": {
      "text/plain": [
       "(20000, 103)"
      ]
     },
     "execution_count": 281,
     "metadata": {},
     "output_type": "execute_result"
    }
   ],
   "source": [
    "data_all.shape"
   ]
  },
  {
   "cell_type": "code",
   "execution_count": 282,
   "metadata": {},
   "outputs": [],
   "source": [
    "prop = ['review_id', 'user_id', 'business_id',\n",
    "       'useful', 'funny', 'cool', 'name','neighborhood', 'address', 'city', 'state', 'postal_code', 'latitude',\n",
    "       'longitude', 'is_open','categories', 'AcceptsInsurance', 'ByAppointmentOnly',\n",
    "       'BusinessAcceptsCreditCards', 'BusinessParking_garage',\n",
    "       'BusinessParking_street', 'BusinessParking_validated',\n",
    "       'BusinessParking_lot', 'BusinessParking_valet',\n",
    "       'HairSpecializesIn_coloring','HairSpecializesIn_africanamerican', 'HairSpecializesIn_curly',\n",
    "       'HairSpecializesIn_perms', 'HairSpecializesIn_kids',\n",
    "       'HairSpecializesIn_extensions', 'HairSpecializesIn_asian',\n",
    "       'HairSpecializesIn_straightperms', 'RestaurantsPriceRange2',\n",
    "       'GoodForKids', 'WheelchairAccessible','BikeParking', 'Alcohol', 'HasTV', 'NoiseLevel', 'RestaurantsAttire',\n",
    "       'Music_dj', 'Music_background_music', 'Music_no_music', 'Music_karaoke',\n",
    "       'Music_live', 'Music_video', 'Music_jukebox', 'Ambience_romantic',\n",
    "       'Ambience_intimate', 'Ambience_classy', 'Ambience_hipster',\n",
    "       'Ambience_divey', 'Ambience_touristy', 'Ambience_trendy',\n",
    "       'Ambience_upscale','Ambience_casual', 'RestaurantsGoodForGroups', 'Caters', 'WiFi',\n",
    "       'RestaurantsReservations', 'RestaurantsTakeOut', 'HappyHour',\n",
    "       'GoodForDancing', 'RestaurantsTableService', 'OutdoorSeating',\n",
    "       'RestaurantsDelivery', 'BestNights_monday', 'BestNights_tuesday',\n",
    "       'BestNights_friday', 'BestNights_wednesday', 'BestNights_thursday',\n",
    "       'BestNights_sunday', 'BestNights_saturday', 'GoodForMeal_dessert',\n",
    "       'GoodForMeal_latenight', 'GoodForMeal_lunch', 'GoodForMeal_dinner',\n",
    "       'GoodForMeal_breakfast', 'GoodForMeal_brunch', 'CoatCheck', 'Smoking',\n",
    "       'DriveThru', 'DogsAllowed', 'BusinessAcceptsBitcoin', 'Open24Hours',\n",
    "       'BYOBCorkage', 'BYOB', 'Corkage', 'DietaryRestrictions_dairy-free',\n",
    "       'DietaryRestrictions_gluten-free', 'DietaryRestrictions_vegan',\n",
    "       'DietaryRestrictions_kosher', 'DietaryRestrictions_halal',\n",
    "       'DietaryRestrictions_soy-free', 'DietaryRestrictions_vegetarian',\n",
    "       'AgesAllowed', 'RestaurantsCounterService']"
   ]
  },
  {
   "cell_type": "code",
   "execution_count": null,
   "metadata": {},
   "outputs": [],
   "source": []
  },
  {
   "cell_type": "code",
   "execution_count": 283,
   "metadata": {},
   "outputs": [],
   "source": [
    "data_all['neighborhood'].fillna('not avaliable',inplace = True)"
   ]
  },
  {
   "cell_type": "code",
   "execution_count": 284,
   "metadata": {},
   "outputs": [],
   "source": [
    "data_all['postal_code'].fillna('not avaliable',inplace = True)"
   ]
  },
  {
   "cell_type": "code",
   "execution_count": 285,
   "metadata": {},
   "outputs": [],
   "source": [
    "data_all['latitude'].fillna(36,inplace=True)"
   ]
  },
  {
   "cell_type": "code",
   "execution_count": 286,
   "metadata": {},
   "outputs": [],
   "source": [
    "data_all['longitude'].fillna(-111,inplace=True)"
   ]
  },
  {
   "cell_type": "code",
   "execution_count": 287,
   "metadata": {},
   "outputs": [],
   "source": [
    "from sklearn.preprocessing import LabelEncoder"
   ]
  },
  {
   "cell_type": "code",
   "execution_count": 288,
   "metadata": {},
   "outputs": [],
   "source": [
    " l = LabelEncoder()"
   ]
  },
  {
   "cell_type": "code",
   "execution_count": 289,
   "metadata": {},
   "outputs": [],
   "source": [
    "\n",
    "for i in data_all[prop]:\n",
    "    if data_all[i].dtype == np.object:\n",
    "        l = LabelEncoder()\n",
    "        \n",
    "        data_all[i] = l.fit_transform(data_all[i].astype(str))    "
   ]
  },
  {
   "cell_type": "code",
   "execution_count": 290,
   "metadata": {},
   "outputs": [
    {
     "data": {
      "text/html": [
       "<div>\n",
       "<style scoped>\n",
       "    .dataframe tbody tr th:only-of-type {\n",
       "        vertical-align: middle;\n",
       "    }\n",
       "\n",
       "    .dataframe tbody tr th {\n",
       "        vertical-align: top;\n",
       "    }\n",
       "\n",
       "    .dataframe thead th {\n",
       "        text-align: right;\n",
       "    }\n",
       "</style>\n",
       "<table border=\"1\" class=\"dataframe\">\n",
       "  <thead>\n",
       "    <tr style=\"text-align: right;\">\n",
       "      <th></th>\n",
       "      <th>review_id</th>\n",
       "      <th>user_id</th>\n",
       "      <th>business_id</th>\n",
       "      <th>useful</th>\n",
       "      <th>funny</th>\n",
       "      <th>cool</th>\n",
       "      <th>name</th>\n",
       "      <th>neighborhood</th>\n",
       "      <th>address</th>\n",
       "      <th>city</th>\n",
       "      <th>...</th>\n",
       "      <th>Corkage</th>\n",
       "      <th>DietaryRestrictions_dairy-free</th>\n",
       "      <th>DietaryRestrictions_gluten-free</th>\n",
       "      <th>DietaryRestrictions_vegan</th>\n",
       "      <th>DietaryRestrictions_kosher</th>\n",
       "      <th>DietaryRestrictions_halal</th>\n",
       "      <th>DietaryRestrictions_soy-free</th>\n",
       "      <th>DietaryRestrictions_vegetarian</th>\n",
       "      <th>AgesAllowed</th>\n",
       "      <th>RestaurantsCounterService</th>\n",
       "    </tr>\n",
       "  </thead>\n",
       "  <tbody>\n",
       "    <tr>\n",
       "      <th>0</th>\n",
       "      <td>7761</td>\n",
       "      <td>7251</td>\n",
       "      <td>8918</td>\n",
       "      <td>0</td>\n",
       "      <td>0</td>\n",
       "      <td>0</td>\n",
       "      <td>8618</td>\n",
       "      <td>215</td>\n",
       "      <td>5385</td>\n",
       "      <td>284</td>\n",
       "      <td>...</td>\n",
       "      <td>0</td>\n",
       "      <td>0</td>\n",
       "      <td>1</td>\n",
       "      <td>1</td>\n",
       "      <td>1</td>\n",
       "      <td>1</td>\n",
       "      <td>1</td>\n",
       "      <td>1</td>\n",
       "      <td>1</td>\n",
       "      <td>0</td>\n",
       "    </tr>\n",
       "    <tr>\n",
       "      <th>1</th>\n",
       "      <td>9040</td>\n",
       "      <td>7937</td>\n",
       "      <td>3751</td>\n",
       "      <td>0</td>\n",
       "      <td>0</td>\n",
       "      <td>0</td>\n",
       "      <td>1352</td>\n",
       "      <td>278</td>\n",
       "      <td>1934</td>\n",
       "      <td>66</td>\n",
       "      <td>...</td>\n",
       "      <td>0</td>\n",
       "      <td>0</td>\n",
       "      <td>1</td>\n",
       "      <td>1</td>\n",
       "      <td>1</td>\n",
       "      <td>1</td>\n",
       "      <td>1</td>\n",
       "      <td>1</td>\n",
       "      <td>1</td>\n",
       "      <td>0</td>\n",
       "    </tr>\n",
       "    <tr>\n",
       "      <th>2</th>\n",
       "      <td>10669</td>\n",
       "      <td>1302</td>\n",
       "      <td>10653</td>\n",
       "      <td>0</td>\n",
       "      <td>0</td>\n",
       "      <td>0</td>\n",
       "      <td>4616</td>\n",
       "      <td>63</td>\n",
       "      <td>2879</td>\n",
       "      <td>118</td>\n",
       "      <td>...</td>\n",
       "      <td>0</td>\n",
       "      <td>0</td>\n",
       "      <td>1</td>\n",
       "      <td>1</td>\n",
       "      <td>1</td>\n",
       "      <td>1</td>\n",
       "      <td>1</td>\n",
       "      <td>1</td>\n",
       "      <td>1</td>\n",
       "      <td>0</td>\n",
       "    </tr>\n",
       "    <tr>\n",
       "      <th>3</th>\n",
       "      <td>18944</td>\n",
       "      <td>528</td>\n",
       "      <td>5448</td>\n",
       "      <td>0</td>\n",
       "      <td>0</td>\n",
       "      <td>1</td>\n",
       "      <td>335</td>\n",
       "      <td>173</td>\n",
       "      <td>5696</td>\n",
       "      <td>166</td>\n",
       "      <td>...</td>\n",
       "      <td>0</td>\n",
       "      <td>0</td>\n",
       "      <td>1</td>\n",
       "      <td>1</td>\n",
       "      <td>1</td>\n",
       "      <td>1</td>\n",
       "      <td>1</td>\n",
       "      <td>1</td>\n",
       "      <td>1</td>\n",
       "      <td>0</td>\n",
       "    </tr>\n",
       "    <tr>\n",
       "      <th>4</th>\n",
       "      <td>4386</td>\n",
       "      <td>4654</td>\n",
       "      <td>3831</td>\n",
       "      <td>0</td>\n",
       "      <td>0</td>\n",
       "      <td>0</td>\n",
       "      <td>3813</td>\n",
       "      <td>272</td>\n",
       "      <td>6935</td>\n",
       "      <td>284</td>\n",
       "      <td>...</td>\n",
       "      <td>0</td>\n",
       "      <td>0</td>\n",
       "      <td>1</td>\n",
       "      <td>1</td>\n",
       "      <td>1</td>\n",
       "      <td>1</td>\n",
       "      <td>1</td>\n",
       "      <td>1</td>\n",
       "      <td>1</td>\n",
       "      <td>0</td>\n",
       "    </tr>\n",
       "  </tbody>\n",
       "</table>\n",
       "<p>5 rows × 97 columns</p>\n",
       "</div>"
      ],
      "text/plain": [
       "   review_id  user_id  business_id  useful  funny  cool  name  neighborhood  \\\n",
       "0       7761     7251         8918       0      0     0  8618           215   \n",
       "1       9040     7937         3751       0      0     0  1352           278   \n",
       "2      10669     1302        10653       0      0     0  4616            63   \n",
       "3      18944      528         5448       0      0     1   335           173   \n",
       "4       4386     4654         3831       0      0     0  3813           272   \n",
       "\n",
       "   address  city            ...              Corkage  \\\n",
       "0     5385   284            ...                    0   \n",
       "1     1934    66            ...                    0   \n",
       "2     2879   118            ...                    0   \n",
       "3     5696   166            ...                    0   \n",
       "4     6935   284            ...                    0   \n",
       "\n",
       "   DietaryRestrictions_dairy-free  DietaryRestrictions_gluten-free  \\\n",
       "0                               0                                1   \n",
       "1                               0                                1   \n",
       "2                               0                                1   \n",
       "3                               0                                1   \n",
       "4                               0                                1   \n",
       "\n",
       "   DietaryRestrictions_vegan  DietaryRestrictions_kosher  \\\n",
       "0                          1                           1   \n",
       "1                          1                           1   \n",
       "2                          1                           1   \n",
       "3                          1                           1   \n",
       "4                          1                           1   \n",
       "\n",
       "   DietaryRestrictions_halal  DietaryRestrictions_soy-free  \\\n",
       "0                          1                             1   \n",
       "1                          1                             1   \n",
       "2                          1                             1   \n",
       "3                          1                             1   \n",
       "4                          1                             1   \n",
       "\n",
       "   DietaryRestrictions_vegetarian  AgesAllowed  RestaurantsCounterService  \n",
       "0                               1            1                          0  \n",
       "1                               1            1                          0  \n",
       "2                               1            1                          0  \n",
       "3                               1            1                          0  \n",
       "4                               1            1                          0  \n",
       "\n",
       "[5 rows x 97 columns]"
      ]
     },
     "execution_count": 290,
     "metadata": {},
     "output_type": "execute_result"
    }
   ],
   "source": [
    "data_all[prop].head()"
   ]
  },
  {
   "cell_type": "code",
   "execution_count": 291,
   "metadata": {},
   "outputs": [],
   "source": [
    "y = data_all['stars_x']"
   ]
  },
  {
   "cell_type": "code",
   "execution_count": 292,
   "metadata": {},
   "outputs": [],
   "source": [
    "y = y.iloc[:20000,]"
   ]
  },
  {
   "cell_type": "code",
   "execution_count": 293,
   "metadata": {},
   "outputs": [],
   "source": [
    "data1 = data_all[prop]"
   ]
  },
  {
   "cell_type": "code",
   "execution_count": 294,
   "metadata": {},
   "outputs": [
    {
     "data": {
      "text/plain": [
       "Index(['review_id', 'user_id', 'business_id', 'useful', 'funny', 'cool',\n",
       "       'name', 'neighborhood', 'address', 'city', 'state', 'postal_code',\n",
       "       'latitude', 'longitude', 'is_open', 'categories', 'AcceptsInsurance',\n",
       "       'ByAppointmentOnly', 'BusinessAcceptsCreditCards',\n",
       "       'BusinessParking_garage', 'BusinessParking_street',\n",
       "       'BusinessParking_validated', 'BusinessParking_lot',\n",
       "       'BusinessParking_valet', 'HairSpecializesIn_coloring',\n",
       "       'HairSpecializesIn_africanamerican', 'HairSpecializesIn_curly',\n",
       "       'HairSpecializesIn_perms', 'HairSpecializesIn_kids',\n",
       "       'HairSpecializesIn_extensions', 'HairSpecializesIn_asian',\n",
       "       'HairSpecializesIn_straightperms', 'RestaurantsPriceRange2',\n",
       "       'GoodForKids', 'WheelchairAccessible', 'BikeParking', 'Alcohol',\n",
       "       'HasTV', 'NoiseLevel', 'RestaurantsAttire', 'Music_dj',\n",
       "       'Music_background_music', 'Music_no_music', 'Music_karaoke',\n",
       "       'Music_live', 'Music_video', 'Music_jukebox', 'Ambience_romantic',\n",
       "       'Ambience_intimate', 'Ambience_classy', 'Ambience_hipster',\n",
       "       'Ambience_divey', 'Ambience_touristy', 'Ambience_trendy',\n",
       "       'Ambience_upscale', 'Ambience_casual', 'RestaurantsGoodForGroups',\n",
       "       'Caters', 'WiFi', 'RestaurantsReservations', 'RestaurantsTakeOut',\n",
       "       'HappyHour', 'GoodForDancing', 'RestaurantsTableService',\n",
       "       'OutdoorSeating', 'RestaurantsDelivery', 'BestNights_monday',\n",
       "       'BestNights_tuesday', 'BestNights_friday', 'BestNights_wednesday',\n",
       "       'BestNights_thursday', 'BestNights_sunday', 'BestNights_saturday',\n",
       "       'GoodForMeal_dessert', 'GoodForMeal_latenight', 'GoodForMeal_lunch',\n",
       "       'GoodForMeal_dinner', 'GoodForMeal_breakfast', 'GoodForMeal_brunch',\n",
       "       'CoatCheck', 'Smoking', 'DriveThru', 'DogsAllowed',\n",
       "       'BusinessAcceptsBitcoin', 'Open24Hours', 'BYOBCorkage', 'BYOB',\n",
       "       'Corkage', 'DietaryRestrictions_dairy-free',\n",
       "       'DietaryRestrictions_gluten-free', 'DietaryRestrictions_vegan',\n",
       "       'DietaryRestrictions_kosher', 'DietaryRestrictions_halal',\n",
       "       'DietaryRestrictions_soy-free', 'DietaryRestrictions_vegetarian',\n",
       "       'AgesAllowed', 'RestaurantsCounterService'],\n",
       "      dtype='object')"
      ]
     },
     "execution_count": 294,
     "metadata": {},
     "output_type": "execute_result"
    }
   ],
   "source": [
    "data1.columns"
   ]
  },
  {
   "cell_type": "code",
   "execution_count": 295,
   "metadata": {},
   "outputs": [],
   "source": [
    "from sklearn.ensemble import RandomForestClassifier"
   ]
  },
  {
   "cell_type": "code",
   "execution_count": 296,
   "metadata": {},
   "outputs": [],
   "source": [
    "classifier = RandomForestClassifier(n_estimators=100,max_features=0.5,min_samples_leaf=3)"
   ]
  },
  {
   "cell_type": "code",
   "execution_count": 297,
   "metadata": {},
   "outputs": [
    {
     "data": {
      "text/plain": [
       "RandomForestClassifier(bootstrap=True, class_weight=None, criterion='gini',\n",
       "            max_depth=None, max_features=0.5, max_leaf_nodes=None,\n",
       "            min_impurity_decrease=0.0, min_impurity_split=None,\n",
       "            min_samples_leaf=3, min_samples_split=2,\n",
       "            min_weight_fraction_leaf=0.0, n_estimators=100, n_jobs=1,\n",
       "            oob_score=False, random_state=None, verbose=0,\n",
       "            warm_start=False)"
      ]
     },
     "execution_count": 297,
     "metadata": {},
     "output_type": "execute_result"
    }
   ],
   "source": [
    "classifier.fit(data1,y)"
   ]
  },
  {
   "cell_type": "code",
   "execution_count": 298,
   "metadata": {},
   "outputs": [],
   "source": [
    "importances = classifier.feature_importances_"
   ]
  },
  {
   "cell_type": "code",
   "execution_count": 299,
   "metadata": {},
   "outputs": [
    {
     "data": {
      "text/plain": [
       "array([1.09813768e-01, 1.08241568e-01, 9.01782223e-02, 2.54878483e-02,\n",
       "       1.53545234e-02, 1.76870991e-02, 9.12603418e-02, 2.67821233e-02,\n",
       "       8.70762595e-02, 2.29443910e-02, 5.18451817e-03, 5.67002434e-02,\n",
       "       8.31906301e-02, 7.96350849e-02, 5.97747566e-03, 8.96184392e-02,\n",
       "       0.00000000e+00, 0.00000000e+00, 4.68725543e-04, 0.00000000e+00,\n",
       "       8.01119443e-03, 9.10570805e-03, 4.47629680e-03, 1.21576580e-02,\n",
       "       6.38689194e-03, 0.00000000e+00, 0.00000000e+00, 0.00000000e+00,\n",
       "       0.00000000e+00, 0.00000000e+00, 0.00000000e+00, 0.00000000e+00,\n",
       "       0.00000000e+00, 0.00000000e+00, 7.00035326e-03, 1.39348331e-02,\n",
       "       0.00000000e+00, 8.72301863e-04, 0.00000000e+00, 0.00000000e+00,\n",
       "       0.00000000e+00, 0.00000000e+00, 0.00000000e+00, 0.00000000e+00,\n",
       "       0.00000000e+00, 0.00000000e+00, 0.00000000e+00, 0.00000000e+00,\n",
       "       0.00000000e+00, 0.00000000e+00, 0.00000000e+00, 0.00000000e+00,\n",
       "       0.00000000e+00, 0.00000000e+00, 0.00000000e+00, 0.00000000e+00,\n",
       "       0.00000000e+00, 1.54862560e-04, 0.00000000e+00, 3.53984692e-04,\n",
       "       0.00000000e+00, 1.44842518e-04, 0.00000000e+00, 5.16425772e-04,\n",
       "       2.42712741e-04, 6.63774984e-06, 2.10892561e-03, 0.00000000e+00,\n",
       "       0.00000000e+00, 0.00000000e+00, 4.02698322e-06, 4.70671163e-08,\n",
       "       0.00000000e+00, 0.00000000e+00, 1.65882341e-03, 1.78878661e-03,\n",
       "       2.30547568e-03, 1.96674248e-03, 1.62932757e-03, 1.82657528e-03,\n",
       "       6.19156221e-05, 1.08630025e-03, 6.30034461e-03, 0.00000000e+00,\n",
       "       0.00000000e+00, 0.00000000e+00, 1.71420327e-05, 0.00000000e+00,\n",
       "       0.00000000e+00, 2.06244267e-05, 8.34014705e-05, 2.96219221e-05,\n",
       "       1.17352401e-05, 2.89177975e-05, 3.78615121e-05, 6.74394323e-05,\n",
       "       0.00000000e+00])"
      ]
     },
     "execution_count": 299,
     "metadata": {},
     "output_type": "execute_result"
    }
   ],
   "source": [
    "importances"
   ]
  },
  {
   "cell_type": "code",
   "execution_count": 300,
   "metadata": {},
   "outputs": [],
   "source": [
    "indices = np.argsort(importances)[::-1]"
   ]
  },
  {
   "cell_type": "code",
   "execution_count": 301,
   "metadata": {},
   "outputs": [],
   "source": [
    "imp = importances[importances >= 0.05]"
   ]
  },
  {
   "cell_type": "code",
   "execution_count": 302,
   "metadata": {},
   "outputs": [
    {
     "data": {
      "text/plain": [
       "array([ 0,  1,  6,  2, 15,  8, 12, 13, 11,  7,  3,  9,  5,  4, 35, 23, 21,\n",
       "       20, 34, 24, 82, 14, 10, 22, 76, 66, 77, 79, 75, 74, 78, 81, 37, 63,\n",
       "       18, 59, 64, 57, 61, 90, 95, 80, 94, 91, 93, 89, 86, 92, 65, 70, 71,\n",
       "       19, 33, 17, 25, 26, 27, 28, 29, 30, 31, 32, 16, 96, 36, 55, 88, 87,\n",
       "       85, 84, 83, 73, 72, 69, 68, 67, 62, 60, 58, 56, 54, 38, 53, 52, 51,\n",
       "       50, 49, 47, 46, 45, 44, 43, 42, 41, 40, 39, 48], dtype=int64)"
      ]
     },
     "execution_count": 302,
     "metadata": {},
     "output_type": "execute_result"
    }
   ],
   "source": [
    "indices"
   ]
  },
  {
   "cell_type": "code",
   "execution_count": 303,
   "metadata": {},
   "outputs": [],
   "source": [
    "indices = np.argsort(imp)[::-1]"
   ]
  },
  {
   "cell_type": "code",
   "execution_count": 304,
   "metadata": {},
   "outputs": [],
   "source": [
    "x =[]\n",
    "for i in data1[prop].index:\n",
    "    if i in indices:\n",
    "        x.append(prop[indices[i]])"
   ]
  },
  {
   "cell_type": "code",
   "execution_count": 305,
   "metadata": {},
   "outputs": [],
   "source": [
    "data_x = data1[x].copy()"
   ]
  },
  {
   "cell_type": "code",
   "execution_count": 306,
   "metadata": {},
   "outputs": [],
   "source": [
    "#data_x.drop(['review_id','text'],axis = 1,inplace = True)"
   ]
  },
  {
   "cell_type": "code",
   "execution_count": 307,
   "metadata": {},
   "outputs": [],
   "source": [
    "#for f in range(data1.shape[1]):\n",
    " #   print(\"%d. feature %d (%f)\" % (f + 1, indices[prop], imp[indices[f]]))"
   ]
  },
  {
   "cell_type": "code",
   "execution_count": 308,
   "metadata": {},
   "outputs": [],
   "source": [
    "importance = pd.DataFrame(importances, index=data1.columns, \n",
    "                          columns=[\"importances\"])"
   ]
  },
  {
   "cell_type": "code",
   "execution_count": 309,
   "metadata": {},
   "outputs": [
    {
     "data": {
      "text/html": [
       "<div>\n",
       "<style scoped>\n",
       "    .dataframe tbody tr th:only-of-type {\n",
       "        vertical-align: middle;\n",
       "    }\n",
       "\n",
       "    .dataframe tbody tr th {\n",
       "        vertical-align: top;\n",
       "    }\n",
       "\n",
       "    .dataframe thead th {\n",
       "        text-align: right;\n",
       "    }\n",
       "</style>\n",
       "<table border=\"1\" class=\"dataframe\">\n",
       "  <thead>\n",
       "    <tr style=\"text-align: right;\">\n",
       "      <th></th>\n",
       "      <th>importances</th>\n",
       "    </tr>\n",
       "  </thead>\n",
       "  <tbody>\n",
       "    <tr>\n",
       "      <th>review_id</th>\n",
       "      <td>1.098138e-01</td>\n",
       "    </tr>\n",
       "    <tr>\n",
       "      <th>user_id</th>\n",
       "      <td>1.082416e-01</td>\n",
       "    </tr>\n",
       "    <tr>\n",
       "      <th>business_id</th>\n",
       "      <td>9.017822e-02</td>\n",
       "    </tr>\n",
       "    <tr>\n",
       "      <th>useful</th>\n",
       "      <td>2.548785e-02</td>\n",
       "    </tr>\n",
       "    <tr>\n",
       "      <th>funny</th>\n",
       "      <td>1.535452e-02</td>\n",
       "    </tr>\n",
       "    <tr>\n",
       "      <th>cool</th>\n",
       "      <td>1.768710e-02</td>\n",
       "    </tr>\n",
       "    <tr>\n",
       "      <th>name</th>\n",
       "      <td>9.126034e-02</td>\n",
       "    </tr>\n",
       "    <tr>\n",
       "      <th>neighborhood</th>\n",
       "      <td>2.678212e-02</td>\n",
       "    </tr>\n",
       "    <tr>\n",
       "      <th>address</th>\n",
       "      <td>8.707626e-02</td>\n",
       "    </tr>\n",
       "    <tr>\n",
       "      <th>city</th>\n",
       "      <td>2.294439e-02</td>\n",
       "    </tr>\n",
       "    <tr>\n",
       "      <th>state</th>\n",
       "      <td>5.184518e-03</td>\n",
       "    </tr>\n",
       "    <tr>\n",
       "      <th>postal_code</th>\n",
       "      <td>5.670024e-02</td>\n",
       "    </tr>\n",
       "    <tr>\n",
       "      <th>latitude</th>\n",
       "      <td>8.319063e-02</td>\n",
       "    </tr>\n",
       "    <tr>\n",
       "      <th>longitude</th>\n",
       "      <td>7.963508e-02</td>\n",
       "    </tr>\n",
       "    <tr>\n",
       "      <th>is_open</th>\n",
       "      <td>5.977476e-03</td>\n",
       "    </tr>\n",
       "    <tr>\n",
       "      <th>categories</th>\n",
       "      <td>8.961844e-02</td>\n",
       "    </tr>\n",
       "    <tr>\n",
       "      <th>AcceptsInsurance</th>\n",
       "      <td>0.000000e+00</td>\n",
       "    </tr>\n",
       "    <tr>\n",
       "      <th>ByAppointmentOnly</th>\n",
       "      <td>0.000000e+00</td>\n",
       "    </tr>\n",
       "    <tr>\n",
       "      <th>BusinessAcceptsCreditCards</th>\n",
       "      <td>4.687255e-04</td>\n",
       "    </tr>\n",
       "    <tr>\n",
       "      <th>BusinessParking_garage</th>\n",
       "      <td>0.000000e+00</td>\n",
       "    </tr>\n",
       "    <tr>\n",
       "      <th>BusinessParking_street</th>\n",
       "      <td>8.011194e-03</td>\n",
       "    </tr>\n",
       "    <tr>\n",
       "      <th>BusinessParking_validated</th>\n",
       "      <td>9.105708e-03</td>\n",
       "    </tr>\n",
       "    <tr>\n",
       "      <th>BusinessParking_lot</th>\n",
       "      <td>4.476297e-03</td>\n",
       "    </tr>\n",
       "    <tr>\n",
       "      <th>BusinessParking_valet</th>\n",
       "      <td>1.215766e-02</td>\n",
       "    </tr>\n",
       "    <tr>\n",
       "      <th>HairSpecializesIn_coloring</th>\n",
       "      <td>6.386892e-03</td>\n",
       "    </tr>\n",
       "    <tr>\n",
       "      <th>HairSpecializesIn_africanamerican</th>\n",
       "      <td>0.000000e+00</td>\n",
       "    </tr>\n",
       "    <tr>\n",
       "      <th>HairSpecializesIn_curly</th>\n",
       "      <td>0.000000e+00</td>\n",
       "    </tr>\n",
       "    <tr>\n",
       "      <th>HairSpecializesIn_perms</th>\n",
       "      <td>0.000000e+00</td>\n",
       "    </tr>\n",
       "    <tr>\n",
       "      <th>HairSpecializesIn_kids</th>\n",
       "      <td>0.000000e+00</td>\n",
       "    </tr>\n",
       "    <tr>\n",
       "      <th>HairSpecializesIn_extensions</th>\n",
       "      <td>0.000000e+00</td>\n",
       "    </tr>\n",
       "    <tr>\n",
       "      <th>...</th>\n",
       "      <td>...</td>\n",
       "    </tr>\n",
       "    <tr>\n",
       "      <th>BestNights_tuesday</th>\n",
       "      <td>0.000000e+00</td>\n",
       "    </tr>\n",
       "    <tr>\n",
       "      <th>BestNights_friday</th>\n",
       "      <td>0.000000e+00</td>\n",
       "    </tr>\n",
       "    <tr>\n",
       "      <th>BestNights_wednesday</th>\n",
       "      <td>0.000000e+00</td>\n",
       "    </tr>\n",
       "    <tr>\n",
       "      <th>BestNights_thursday</th>\n",
       "      <td>4.026983e-06</td>\n",
       "    </tr>\n",
       "    <tr>\n",
       "      <th>BestNights_sunday</th>\n",
       "      <td>4.706712e-08</td>\n",
       "    </tr>\n",
       "    <tr>\n",
       "      <th>BestNights_saturday</th>\n",
       "      <td>0.000000e+00</td>\n",
       "    </tr>\n",
       "    <tr>\n",
       "      <th>GoodForMeal_dessert</th>\n",
       "      <td>0.000000e+00</td>\n",
       "    </tr>\n",
       "    <tr>\n",
       "      <th>GoodForMeal_latenight</th>\n",
       "      <td>1.658823e-03</td>\n",
       "    </tr>\n",
       "    <tr>\n",
       "      <th>GoodForMeal_lunch</th>\n",
       "      <td>1.788787e-03</td>\n",
       "    </tr>\n",
       "    <tr>\n",
       "      <th>GoodForMeal_dinner</th>\n",
       "      <td>2.305476e-03</td>\n",
       "    </tr>\n",
       "    <tr>\n",
       "      <th>GoodForMeal_breakfast</th>\n",
       "      <td>1.966742e-03</td>\n",
       "    </tr>\n",
       "    <tr>\n",
       "      <th>GoodForMeal_brunch</th>\n",
       "      <td>1.629328e-03</td>\n",
       "    </tr>\n",
       "    <tr>\n",
       "      <th>CoatCheck</th>\n",
       "      <td>1.826575e-03</td>\n",
       "    </tr>\n",
       "    <tr>\n",
       "      <th>Smoking</th>\n",
       "      <td>6.191562e-05</td>\n",
       "    </tr>\n",
       "    <tr>\n",
       "      <th>DriveThru</th>\n",
       "      <td>1.086300e-03</td>\n",
       "    </tr>\n",
       "    <tr>\n",
       "      <th>DogsAllowed</th>\n",
       "      <td>6.300345e-03</td>\n",
       "    </tr>\n",
       "    <tr>\n",
       "      <th>BusinessAcceptsBitcoin</th>\n",
       "      <td>0.000000e+00</td>\n",
       "    </tr>\n",
       "    <tr>\n",
       "      <th>Open24Hours</th>\n",
       "      <td>0.000000e+00</td>\n",
       "    </tr>\n",
       "    <tr>\n",
       "      <th>BYOBCorkage</th>\n",
       "      <td>0.000000e+00</td>\n",
       "    </tr>\n",
       "    <tr>\n",
       "      <th>BYOB</th>\n",
       "      <td>1.714203e-05</td>\n",
       "    </tr>\n",
       "    <tr>\n",
       "      <th>Corkage</th>\n",
       "      <td>0.000000e+00</td>\n",
       "    </tr>\n",
       "    <tr>\n",
       "      <th>DietaryRestrictions_dairy-free</th>\n",
       "      <td>0.000000e+00</td>\n",
       "    </tr>\n",
       "    <tr>\n",
       "      <th>DietaryRestrictions_gluten-free</th>\n",
       "      <td>2.062443e-05</td>\n",
       "    </tr>\n",
       "    <tr>\n",
       "      <th>DietaryRestrictions_vegan</th>\n",
       "      <td>8.340147e-05</td>\n",
       "    </tr>\n",
       "    <tr>\n",
       "      <th>DietaryRestrictions_kosher</th>\n",
       "      <td>2.962192e-05</td>\n",
       "    </tr>\n",
       "    <tr>\n",
       "      <th>DietaryRestrictions_halal</th>\n",
       "      <td>1.173524e-05</td>\n",
       "    </tr>\n",
       "    <tr>\n",
       "      <th>DietaryRestrictions_soy-free</th>\n",
       "      <td>2.891780e-05</td>\n",
       "    </tr>\n",
       "    <tr>\n",
       "      <th>DietaryRestrictions_vegetarian</th>\n",
       "      <td>3.786151e-05</td>\n",
       "    </tr>\n",
       "    <tr>\n",
       "      <th>AgesAllowed</th>\n",
       "      <td>6.743943e-05</td>\n",
       "    </tr>\n",
       "    <tr>\n",
       "      <th>RestaurantsCounterService</th>\n",
       "      <td>0.000000e+00</td>\n",
       "    </tr>\n",
       "  </tbody>\n",
       "</table>\n",
       "<p>97 rows × 1 columns</p>\n",
       "</div>"
      ],
      "text/plain": [
       "                                    importances\n",
       "review_id                          1.098138e-01\n",
       "user_id                            1.082416e-01\n",
       "business_id                        9.017822e-02\n",
       "useful                             2.548785e-02\n",
       "funny                              1.535452e-02\n",
       "cool                               1.768710e-02\n",
       "name                               9.126034e-02\n",
       "neighborhood                       2.678212e-02\n",
       "address                            8.707626e-02\n",
       "city                               2.294439e-02\n",
       "state                              5.184518e-03\n",
       "postal_code                        5.670024e-02\n",
       "latitude                           8.319063e-02\n",
       "longitude                          7.963508e-02\n",
       "is_open                            5.977476e-03\n",
       "categories                         8.961844e-02\n",
       "AcceptsInsurance                   0.000000e+00\n",
       "ByAppointmentOnly                  0.000000e+00\n",
       "BusinessAcceptsCreditCards         4.687255e-04\n",
       "BusinessParking_garage             0.000000e+00\n",
       "BusinessParking_street             8.011194e-03\n",
       "BusinessParking_validated          9.105708e-03\n",
       "BusinessParking_lot                4.476297e-03\n",
       "BusinessParking_valet              1.215766e-02\n",
       "HairSpecializesIn_coloring         6.386892e-03\n",
       "HairSpecializesIn_africanamerican  0.000000e+00\n",
       "HairSpecializesIn_curly            0.000000e+00\n",
       "HairSpecializesIn_perms            0.000000e+00\n",
       "HairSpecializesIn_kids             0.000000e+00\n",
       "HairSpecializesIn_extensions       0.000000e+00\n",
       "...                                         ...\n",
       "BestNights_tuesday                 0.000000e+00\n",
       "BestNights_friday                  0.000000e+00\n",
       "BestNights_wednesday               0.000000e+00\n",
       "BestNights_thursday                4.026983e-06\n",
       "BestNights_sunday                  4.706712e-08\n",
       "BestNights_saturday                0.000000e+00\n",
       "GoodForMeal_dessert                0.000000e+00\n",
       "GoodForMeal_latenight              1.658823e-03\n",
       "GoodForMeal_lunch                  1.788787e-03\n",
       "GoodForMeal_dinner                 2.305476e-03\n",
       "GoodForMeal_breakfast              1.966742e-03\n",
       "GoodForMeal_brunch                 1.629328e-03\n",
       "CoatCheck                          1.826575e-03\n",
       "Smoking                            6.191562e-05\n",
       "DriveThru                          1.086300e-03\n",
       "DogsAllowed                        6.300345e-03\n",
       "BusinessAcceptsBitcoin             0.000000e+00\n",
       "Open24Hours                        0.000000e+00\n",
       "BYOBCorkage                        0.000000e+00\n",
       "BYOB                               1.714203e-05\n",
       "Corkage                            0.000000e+00\n",
       "DietaryRestrictions_dairy-free     0.000000e+00\n",
       "DietaryRestrictions_gluten-free    2.062443e-05\n",
       "DietaryRestrictions_vegan          8.340147e-05\n",
       "DietaryRestrictions_kosher         2.962192e-05\n",
       "DietaryRestrictions_halal          1.173524e-05\n",
       "DietaryRestrictions_soy-free       2.891780e-05\n",
       "DietaryRestrictions_vegetarian     3.786151e-05\n",
       "AgesAllowed                        6.743943e-05\n",
       "RestaurantsCounterService          0.000000e+00\n",
       "\n",
       "[97 rows x 1 columns]"
      ]
     },
     "execution_count": 309,
     "metadata": {},
     "output_type": "execute_result"
    }
   ],
   "source": [
    "importance"
   ]
  },
  {
   "cell_type": "code",
   "execution_count": 310,
   "metadata": {},
   "outputs": [
    {
     "data": {
      "text/plain": [
       "BikeParking\n",
       "0    3.777108\n",
       "1    3.669746\n",
       "2    3.770137\n",
       "Name: stars_x, dtype: float64"
      ]
     },
     "execution_count": 310,
     "metadata": {},
     "output_type": "execute_result"
    }
   ],
   "source": [
    "data_all.groupby(['BikeParking']).agg('stars_x').mean()"
   ]
  },
  {
   "cell_type": "code",
   "execution_count": 311,
   "metadata": {},
   "outputs": [],
   "source": [
    "#x_data = data[x]"
   ]
  },
  {
   "cell_type": "code",
   "execution_count": 312,
   "metadata": {},
   "outputs": [],
   "source": [
    "data_p = data_all"
   ]
  },
  {
   "cell_type": "code",
   "execution_count": 313,
   "metadata": {},
   "outputs": [
    {
     "data": {
      "text/html": [
       "<div>\n",
       "<style scoped>\n",
       "    .dataframe tbody tr th:only-of-type {\n",
       "        vertical-align: middle;\n",
       "    }\n",
       "\n",
       "    .dataframe tbody tr th {\n",
       "        vertical-align: top;\n",
       "    }\n",
       "\n",
       "    .dataframe thead th {\n",
       "        text-align: right;\n",
       "    }\n",
       "</style>\n",
       "<table border=\"1\" class=\"dataframe\">\n",
       "  <thead>\n",
       "    <tr style=\"text-align: right;\">\n",
       "      <th></th>\n",
       "      <th>Unnamed: 0</th>\n",
       "      <th>review_id</th>\n",
       "      <th>user_id</th>\n",
       "      <th>business_id</th>\n",
       "      <th>stars_x</th>\n",
       "      <th>date</th>\n",
       "      <th>text</th>\n",
       "      <th>useful</th>\n",
       "      <th>funny</th>\n",
       "      <th>cool</th>\n",
       "      <th>...</th>\n",
       "      <th>Corkage</th>\n",
       "      <th>DietaryRestrictions_dairy-free</th>\n",
       "      <th>DietaryRestrictions_gluten-free</th>\n",
       "      <th>DietaryRestrictions_vegan</th>\n",
       "      <th>DietaryRestrictions_kosher</th>\n",
       "      <th>DietaryRestrictions_halal</th>\n",
       "      <th>DietaryRestrictions_soy-free</th>\n",
       "      <th>DietaryRestrictions_vegetarian</th>\n",
       "      <th>AgesAllowed</th>\n",
       "      <th>RestaurantsCounterService</th>\n",
       "    </tr>\n",
       "  </thead>\n",
       "  <tbody>\n",
       "    <tr>\n",
       "      <th>0</th>\n",
       "      <td>59811</td>\n",
       "      <td>7761</td>\n",
       "      <td>7251</td>\n",
       "      <td>8918</td>\n",
       "      <td>3</td>\n",
       "      <td>2016-08-30</td>\n",
       "      <td>Cute little place. Has the mood lighting that ...</td>\n",
       "      <td>0</td>\n",
       "      <td>0</td>\n",
       "      <td>0</td>\n",
       "      <td>...</td>\n",
       "      <td>0</td>\n",
       "      <td>0</td>\n",
       "      <td>1</td>\n",
       "      <td>1</td>\n",
       "      <td>1</td>\n",
       "      <td>1</td>\n",
       "      <td>1</td>\n",
       "      <td>1</td>\n",
       "      <td>1</td>\n",
       "      <td>0</td>\n",
       "    </tr>\n",
       "    <tr>\n",
       "      <th>1</th>\n",
       "      <td>58336</td>\n",
       "      <td>9040</td>\n",
       "      <td>7937</td>\n",
       "      <td>3751</td>\n",
       "      <td>1</td>\n",
       "      <td>2016-05-29</td>\n",
       "      <td>Just this moment got back from dinner at the C...</td>\n",
       "      <td>0</td>\n",
       "      <td>0</td>\n",
       "      <td>0</td>\n",
       "      <td>...</td>\n",
       "      <td>0</td>\n",
       "      <td>0</td>\n",
       "      <td>1</td>\n",
       "      <td>1</td>\n",
       "      <td>1</td>\n",
       "      <td>1</td>\n",
       "      <td>1</td>\n",
       "      <td>1</td>\n",
       "      <td>1</td>\n",
       "      <td>0</td>\n",
       "    </tr>\n",
       "    <tr>\n",
       "      <th>2</th>\n",
       "      <td>55265</td>\n",
       "      <td>10669</td>\n",
       "      <td>1302</td>\n",
       "      <td>10653</td>\n",
       "      <td>4</td>\n",
       "      <td>2011-01-20</td>\n",
       "      <td>From a mezzanine overlooking the Four Queens C...</td>\n",
       "      <td>0</td>\n",
       "      <td>0</td>\n",
       "      <td>0</td>\n",
       "      <td>...</td>\n",
       "      <td>0</td>\n",
       "      <td>0</td>\n",
       "      <td>1</td>\n",
       "      <td>1</td>\n",
       "      <td>1</td>\n",
       "      <td>1</td>\n",
       "      <td>1</td>\n",
       "      <td>1</td>\n",
       "      <td>1</td>\n",
       "      <td>0</td>\n",
       "    </tr>\n",
       "    <tr>\n",
       "      <th>3</th>\n",
       "      <td>4680</td>\n",
       "      <td>18944</td>\n",
       "      <td>528</td>\n",
       "      <td>5448</td>\n",
       "      <td>5</td>\n",
       "      <td>2016-07-21</td>\n",
       "      <td>Vraiment excellent et tout est sans gluten à p...</td>\n",
       "      <td>0</td>\n",
       "      <td>0</td>\n",
       "      <td>1</td>\n",
       "      <td>...</td>\n",
       "      <td>0</td>\n",
       "      <td>0</td>\n",
       "      <td>1</td>\n",
       "      <td>1</td>\n",
       "      <td>1</td>\n",
       "      <td>1</td>\n",
       "      <td>1</td>\n",
       "      <td>1</td>\n",
       "      <td>1</td>\n",
       "      <td>0</td>\n",
       "    </tr>\n",
       "    <tr>\n",
       "      <th>4</th>\n",
       "      <td>12488</td>\n",
       "      <td>4386</td>\n",
       "      <td>4654</td>\n",
       "      <td>3831</td>\n",
       "      <td>3</td>\n",
       "      <td>2016-01-25</td>\n",
       "      <td>Came by this little place for a hot bowl of no...</td>\n",
       "      <td>0</td>\n",
       "      <td>0</td>\n",
       "      <td>0</td>\n",
       "      <td>...</td>\n",
       "      <td>0</td>\n",
       "      <td>0</td>\n",
       "      <td>1</td>\n",
       "      <td>1</td>\n",
       "      <td>1</td>\n",
       "      <td>1</td>\n",
       "      <td>1</td>\n",
       "      <td>1</td>\n",
       "      <td>1</td>\n",
       "      <td>0</td>\n",
       "    </tr>\n",
       "  </tbody>\n",
       "</table>\n",
       "<p>5 rows × 103 columns</p>\n",
       "</div>"
      ],
      "text/plain": [
       "   Unnamed: 0  review_id  user_id  business_id  stars_x        date  \\\n",
       "0       59811       7761     7251         8918        3  2016-08-30   \n",
       "1       58336       9040     7937         3751        1  2016-05-29   \n",
       "2       55265      10669     1302        10653        4  2011-01-20   \n",
       "3        4680      18944      528         5448        5  2016-07-21   \n",
       "4       12488       4386     4654         3831        3  2016-01-25   \n",
       "\n",
       "                                                text  useful  funny  cool  \\\n",
       "0  Cute little place. Has the mood lighting that ...       0      0     0   \n",
       "1  Just this moment got back from dinner at the C...       0      0     0   \n",
       "2  From a mezzanine overlooking the Four Queens C...       0      0     0   \n",
       "3  Vraiment excellent et tout est sans gluten à p...       0      0     1   \n",
       "4  Came by this little place for a hot bowl of no...       0      0     0   \n",
       "\n",
       "             ...              Corkage  DietaryRestrictions_dairy-free  \\\n",
       "0            ...                    0                               0   \n",
       "1            ...                    0                               0   \n",
       "2            ...                    0                               0   \n",
       "3            ...                    0                               0   \n",
       "4            ...                    0                               0   \n",
       "\n",
       "   DietaryRestrictions_gluten-free  DietaryRestrictions_vegan  \\\n",
       "0                                1                          1   \n",
       "1                                1                          1   \n",
       "2                                1                          1   \n",
       "3                                1                          1   \n",
       "4                                1                          1   \n",
       "\n",
       "   DietaryRestrictions_kosher  DietaryRestrictions_halal  \\\n",
       "0                           1                          1   \n",
       "1                           1                          1   \n",
       "2                           1                          1   \n",
       "3                           1                          1   \n",
       "4                           1                          1   \n",
       "\n",
       "   DietaryRestrictions_soy-free  DietaryRestrictions_vegetarian  AgesAllowed  \\\n",
       "0                             1                               1            1   \n",
       "1                             1                               1            1   \n",
       "2                             1                               1            1   \n",
       "3                             1                               1            1   \n",
       "4                             1                               1            1   \n",
       "\n",
       "   RestaurantsCounterService  \n",
       "0                          0  \n",
       "1                          0  \n",
       "2                          0  \n",
       "3                          0  \n",
       "4                          0  \n",
       "\n",
       "[5 rows x 103 columns]"
      ]
     },
     "execution_count": 313,
     "metadata": {},
     "output_type": "execute_result"
    }
   ],
   "source": [
    "data_all.head()"
   ]
  },
  {
   "cell_type": "code",
   "execution_count": null,
   "metadata": {},
   "outputs": [],
   "source": []
  },
  {
   "cell_type": "code",
   "execution_count": null,
   "metadata": {},
   "outputs": [],
   "source": []
  },
  {
   "cell_type": "code",
   "execution_count": null,
   "metadata": {},
   "outputs": [],
   "source": []
  },
  {
   "cell_type": "code",
   "execution_count": 314,
   "metadata": {},
   "outputs": [],
   "source": [
    "# lets see the user id"
   ]
  },
  {
   "cell_type": "code",
   "execution_count": 315,
   "metadata": {},
   "outputs": [],
   "source": [
    "user_id = data_all.iloc[:,1]"
   ]
  },
  {
   "cell_type": "code",
   "execution_count": 316,
   "metadata": {},
   "outputs": [],
   "source": [
    "user_id_count = len(user_id.unique())"
   ]
  },
  {
   "cell_type": "code",
   "execution_count": 317,
   "metadata": {},
   "outputs": [
    {
     "data": {
      "text/plain": [
       "20000"
      ]
     },
     "execution_count": 317,
     "metadata": {},
     "output_type": "execute_result"
    }
   ],
   "source": [
    "user_id_count"
   ]
  },
  {
   "cell_type": "code",
   "execution_count": 318,
   "metadata": {},
   "outputs": [],
   "source": [
    "# lets see business id"
   ]
  },
  {
   "cell_type": "code",
   "execution_count": 319,
   "metadata": {},
   "outputs": [],
   "source": [
    "business_id = data_all.iloc[:,2]"
   ]
  },
  {
   "cell_type": "code",
   "execution_count": 320,
   "metadata": {},
   "outputs": [],
   "source": [
    "business_id_count = len(business_id.unique())"
   ]
  },
  {
   "cell_type": "code",
   "execution_count": 321,
   "metadata": {},
   "outputs": [
    {
     "data": {
      "text/plain": [
       "8400"
      ]
     },
     "execution_count": 321,
     "metadata": {},
     "output_type": "execute_result"
    }
   ],
   "source": [
    "business_id_count"
   ]
  },
  {
   "cell_type": "code",
   "execution_count": 322,
   "metadata": {},
   "outputs": [],
   "source": [
    "# lets see the visulaizations of stars"
   ]
  },
  {
   "cell_type": "code",
   "execution_count": 323,
   "metadata": {},
   "outputs": [],
   "source": [
    "count = data_all['stars_x'].value_counts()"
   ]
  },
  {
   "cell_type": "code",
   "execution_count": 324,
   "metadata": {},
   "outputs": [
    {
     "data": {
      "text/plain": [
       "5    7489\n",
       "4    5594\n",
       "3    2886\n",
       "1    2153\n",
       "2    1878\n",
       "Name: stars_x, dtype: int64"
      ]
     },
     "execution_count": 324,
     "metadata": {},
     "output_type": "execute_result"
    }
   ],
   "source": [
    "count"
   ]
  },
  {
   "cell_type": "code",
   "execution_count": 325,
   "metadata": {},
   "outputs": [],
   "source": [
    "data_index = data_all['stars_x'].index"
   ]
  },
  {
   "cell_type": "code",
   "execution_count": 326,
   "metadata": {
    "scrolled": true
   },
   "outputs": [
    {
     "data": {
      "image/png": "[encoded data removed]",
      "text/plain": [
       "<matplotlib.figure.Figure at 0x18e52501f28>"
      ]
     },
     "metadata": {},
     "output_type": "display_data"
    }
   ],
   "source": [
    "sns.set_style('whitegrid')\n",
    "sns.countplot(x = 'stars_x',data=data_all)\n",
    "plt.savefig(\"D:/AMOGH/r plots/stars_count.png\")"
   ]
  },
  {
   "cell_type": "code",
   "execution_count": 327,
   "metadata": {},
   "outputs": [
    {
     "data": {
      "image/png": "[encoded data removed]",
      "text/plain": [
       "<matplotlib.figure.Figure at 0x18eb42b9208>"
      ]
     },
     "metadata": {},
     "output_type": "display_data"
    }
   ],
   "source": [
    "plt.figure(figsize=(12,6))\n",
    "sns.set_style('whitegrid')\n",
    "sns.countplot(x = 'funny',data=data_all)\n",
    "plt.savefig(\"D:/AMOGH/r plots/funny_count.png\")"
   ]
  },
  {
   "cell_type": "code",
   "execution_count": 328,
   "metadata": {},
   "outputs": [
    {
     "data": {
      "image/png": "[encoded data removed]",
      "text/plain": [
       "<matplotlib.figure.Figure at 0x18eb3ee50f0>"
      ]
     },
     "metadata": {},
     "output_type": "display_data"
    }
   ],
   "source": [
    "plt.figure(figsize=(12,6))\n",
    "sns.set_style('whitegrid')\n",
    "sns.countplot(x = 'cool',data=data_all)\n",
    "plt.title('count of cool')\n",
    "plt.savefig(\"D:/AMOGH/r plots/cool_count.png\")"
   ]
  },
  {
   "cell_type": "code",
   "execution_count": 329,
   "metadata": {},
   "outputs": [
    {
     "data": {
      "image/png": "[encoded data removed]",
      "text/plain": [
       "<matplotlib.figure.Figure at 0x18eb3ee5588>"
      ]
     },
     "metadata": {},
     "output_type": "display_data"
    }
   ],
   "source": [
    "plt.figure(figsize=(12,8))\n",
    "sns.set_style('whitegrid')\n",
    "sns.countplot(x = 'useful',data=data_all)\n",
    "plt.title('count of useful')\n",
    "plt.savefig(\"D:/AMOGH/r plots/usefull_count.png\")"
   ]
  },
  {
   "cell_type": "code",
   "execution_count": 330,
   "metadata": {},
   "outputs": [],
   "source": [
    "# data that is funny and cool"
   ]
  },
  {
   "cell_type": "code",
   "execution_count": 331,
   "metadata": {},
   "outputs": [],
   "source": [
    "funny_cool_useful = data_all[(data_all['funny'] > 0) & (data_all['cool'] > 0) & data_all['useful'] > 0 ]"
   ]
  },
  {
   "cell_type": "code",
   "execution_count": 332,
   "metadata": {},
   "outputs": [],
   "source": [
    "len_funny_cool_useful = len(funny_cool_useful)"
   ]
  },
  {
   "cell_type": "code",
   "execution_count": 333,
   "metadata": {},
   "outputs": [],
   "source": [
    "funny_cool = data_all[(data_all['funny'] > 0) & (data_all['cool'] > 0)]"
   ]
  },
  {
   "cell_type": "code",
   "execution_count": 334,
   "metadata": {},
   "outputs": [],
   "source": [
    "len_funny_cool=len(funny_cool)"
   ]
  },
  {
   "cell_type": "code",
   "execution_count": 335,
   "metadata": {},
   "outputs": [],
   "source": [
    "funny_useful = data_all[(data_all['funny'] > 0) & (data_all['useful'] > 0)]"
   ]
  },
  {
   "cell_type": "code",
   "execution_count": 336,
   "metadata": {},
   "outputs": [],
   "source": [
    "len_funny_useful = len(funny_useful)"
   ]
  },
  {
   "cell_type": "code",
   "execution_count": 337,
   "metadata": {},
   "outputs": [],
   "source": [
    "useful_cool = data_all[(data_all['cool'] > 0) & (data_all['useful'] > 0)]"
   ]
  },
  {
   "cell_type": "code",
   "execution_count": 338,
   "metadata": {},
   "outputs": [],
   "source": [
    "len_useful_cool = len(useful_cool)"
   ]
  },
  {
   "cell_type": "code",
   "execution_count": 339,
   "metadata": {},
   "outputs": [],
   "source": [
    "len_combinations = pd.DataFrame({'funny_cool_useful':len_funny_cool_useful,\n",
    "                        'funny_cool':len_funny_cool,\n",
    "                        'funny_useful':len_funny_useful,\n",
    "                        'useful_cool':len_useful_cool},index=[0])"
   ]
  },
  {
   "cell_type": "code",
   "execution_count": 340,
   "metadata": {},
   "outputs": [],
   "source": [
    "len_combinations = len_combinations.transpose()"
   ]
  },
  {
   "cell_type": "code",
   "execution_count": 341,
   "metadata": {},
   "outputs": [
    {
     "data": {
      "text/plain": [
       "Index(['funny_cool', 'funny_cool_useful', 'funny_useful', 'useful_cool'], dtype='object')"
      ]
     },
     "execution_count": 341,
     "metadata": {},
     "output_type": "execute_result"
    }
   ],
   "source": [
    "len_combinations.index"
   ]
  },
  {
   "cell_type": "code",
   "execution_count": 342,
   "metadata": {},
   "outputs": [
    {
     "data": {
      "image/png": "[encoded data removed]",
      "text/plain": [
       "<matplotlib.figure.Figure at 0x18eb42c1320>"
      ]
     },
     "metadata": {},
     "output_type": "display_data"
    }
   ],
   "source": [
    "sns.set_style('whitegrid')\n",
    "sns.barplot(x = len_combinations.index,y=0,data=len_combinations)\n",
    "plt.savefig(\"D:/AMOGH/r plots/stars_count.png\")\n",
    "plt.title('combinations')\n",
    "plt.savefig(\"D:/AMOGH/r plots/combinations.png\")"
   ]
  },
  {
   "cell_type": "code",
   "execution_count": 343,
   "metadata": {},
   "outputs": [],
   "source": [
    "data_all['date']=pd.DatetimeIndex(data_all['date'])"
   ]
  },
  {
   "cell_type": "code",
   "execution_count": 344,
   "metadata": {},
   "outputs": [],
   "source": [
    "data_all['date'] = pd.to_datetime(data_all['date'])"
   ]
  },
  {
   "cell_type": "code",
   "execution_count": 345,
   "metadata": {},
   "outputs": [],
   "source": [
    "data_all['year'] = data_all['date'].dt.year"
   ]
  },
  {
   "cell_type": "code",
   "execution_count": 346,
   "metadata": {},
   "outputs": [
    {
     "data": {
      "text/plain": [
       "2005"
      ]
     },
     "execution_count": 346,
     "metadata": {},
     "output_type": "execute_result"
    }
   ],
   "source": [
    "data_all['year'].min()"
   ]
  },
  {
   "cell_type": "code",
   "execution_count": 347,
   "metadata": {},
   "outputs": [
    {
     "data": {
      "text/plain": [
       "2017"
      ]
     },
     "execution_count": 347,
     "metadata": {},
     "output_type": "execute_result"
    }
   ],
   "source": [
    "data_all['year'].max()"
   ]
  },
  {
   "cell_type": "code",
   "execution_count": 348,
   "metadata": {},
   "outputs": [
    {
     "data": {
      "text/plain": [
       "13"
      ]
     },
     "execution_count": 348,
     "metadata": {},
     "output_type": "execute_result"
    }
   ],
   "source": [
    "len(data_all['year'].unique())"
   ]
  },
  {
   "cell_type": "code",
   "execution_count": 349,
   "metadata": {},
   "outputs": [],
   "source": [
    "#year_count = np.sort(data_all['year'].value_counts())"
   ]
  },
  {
   "cell_type": "code",
   "execution_count": 350,
   "metadata": {},
   "outputs": [],
   "source": [
    "#year_count"
   ]
  },
  {
   "cell_type": "code",
   "execution_count": 351,
   "metadata": {},
   "outputs": [
    {
     "data": {
      "image/png": "[encoded data removed]",
      "text/plain": [
       "<matplotlib.figure.Figure at 0x18eb3ee5860>"
      ]
     },
     "metadata": {},
     "output_type": "display_data"
    }
   ],
   "source": [
    "colour = sns.palplot(sns.color_palette(\"hls\", 8))"
   ]
  },
  {
   "cell_type": "code",
   "execution_count": 352,
   "metadata": {},
   "outputs": [
    {
     "data": {
      "image/png": "[encoded data removed]",
      "text/plain": [
       "<matplotlib.figure.Figure at 0x18e54862550>"
      ]
     },
     "metadata": {},
     "output_type": "display_data"
    }
   ],
   "source": [
    "sns.countplot(x ='year',data=data_all,color=colour)\n",
    "plt.savefig(\"D:/AMOGH/r plots/year_count.png\")"
   ]
  },
  {
   "cell_type": "code",
   "execution_count": 353,
   "metadata": {},
   "outputs": [],
   "source": [
    "month = data_all['date'].dt.month"
   ]
  },
  {
   "cell_type": "code",
   "execution_count": 354,
   "metadata": {},
   "outputs": [],
   "source": [
    "data_all['month'] = month"
   ]
  },
  {
   "cell_type": "code",
   "execution_count": 355,
   "metadata": {},
   "outputs": [],
   "source": [
    "month_count = month.value_counts()"
   ]
  },
  {
   "cell_type": "code",
   "execution_count": 356,
   "metadata": {},
   "outputs": [],
   "source": [
    "month_count_index = month_count.index"
   ]
  },
  {
   "cell_type": "code",
   "execution_count": 357,
   "metadata": {},
   "outputs": [
    {
     "data": {
      "text/plain": [
       "Int64Index([7, 8, 11, 10, 3, 9, 6, 1, 4, 5, 12, 2], dtype='int64')"
      ]
     },
     "execution_count": 357,
     "metadata": {},
     "output_type": "execute_result"
    }
   ],
   "source": [
    "month_count_index"
   ]
  },
  {
   "cell_type": "code",
   "execution_count": 358,
   "metadata": {},
   "outputs": [
    {
     "data": {
      "image/png": "[encoded data removed]",
      "text/plain": [
       "<matplotlib.figure.Figure at 0x18e540b3e48>"
      ]
     },
     "metadata": {},
     "output_type": "display_data"
    }
   ],
   "source": [
    "#sns.choose_dark_palette(input='husl')\n",
    "plt.bar(month_count_index,month_count)\n",
    "plt.xlabel('month')\n",
    "plt.ylabel('count')\n",
    "plt.savefig(\"D:/AMOGH/r plots/month_count.png\")"
   ]
  },
  {
   "cell_type": "code",
   "execution_count": 359,
   "metadata": {},
   "outputs": [],
   "source": [
    "day = data_all['date'].dt.dayofweek"
   ]
  },
  {
   "cell_type": "code",
   "execution_count": 360,
   "metadata": {},
   "outputs": [
    {
     "data": {
      "text/plain": [
       "6    3265\n",
       "0    3045\n",
       "5    2904\n",
       "2    2782\n",
       "1    2737\n",
       "3    2673\n",
       "4    2594\n",
       "Name: date, dtype: int64"
      ]
     },
     "execution_count": 360,
     "metadata": {},
     "output_type": "execute_result"
    }
   ],
   "source": [
    "day.value_counts()"
   ]
  },
  {
   "cell_type": "code",
   "execution_count": 361,
   "metadata": {},
   "outputs": [],
   "source": [
    "#data.columns"
   ]
  },
  {
   "cell_type": "code",
   "execution_count": 362,
   "metadata": {},
   "outputs": [],
   "source": [
    "from sklearn.preprocessing import LabelEncoder"
   ]
  },
  {
   "cell_type": "code",
   "execution_count": 363,
   "metadata": {},
   "outputs": [],
   "source": [
    "label = LabelEncoder()"
   ]
  },
  {
   "cell_type": "code",
   "execution_count": 364,
   "metadata": {},
   "outputs": [],
   "source": [
    "label.fit(data_all['user_id'])\n",
    "data_all['user_id'] = label.fit_transform(data_all['user_id'])"
   ]
  },
  {
   "cell_type": "code",
   "execution_count": 365,
   "metadata": {},
   "outputs": [],
   "source": [
    "label.fit(data_all['business_id'])\n",
    "data_all['business_id'] = label.fit_transform(data_all['business_id'])"
   ]
  },
  {
   "cell_type": "code",
   "execution_count": 366,
   "metadata": {},
   "outputs": [],
   "source": [
    "data_all['stars_x'] = data_all['stars_x'].replace(4,5)"
   ]
  },
  {
   "cell_type": "code",
   "execution_count": 367,
   "metadata": {},
   "outputs": [],
   "source": [
    "data_all['stars_x'] = data_all['stars_x'].replace(2,1)"
   ]
  },
  {
   "cell_type": "code",
   "execution_count": 368,
   "metadata": {},
   "outputs": [],
   "source": [
    "####"
   ]
  },
  {
   "cell_type": "code",
   "execution_count": 369,
   "metadata": {},
   "outputs": [],
   "source": [
    "import nltk"
   ]
  },
  {
   "cell_type": "code",
   "execution_count": 370,
   "metadata": {},
   "outputs": [],
   "source": [
    "text = nltk.Text(data_all['text'])"
   ]
  },
  {
   "cell_type": "code",
   "execution_count": 371,
   "metadata": {},
   "outputs": [
    {
     "data": {
      "text/plain": [
       "20000"
      ]
     },
     "execution_count": 371,
     "metadata": {},
     "output_type": "execute_result"
    }
   ],
   "source": [
    "len(text)"
   ]
  },
  {
   "cell_type": "code",
   "execution_count": null,
   "metadata": {},
   "outputs": [],
   "source": []
  },
  {
   "cell_type": "code",
   "execution_count": 372,
   "metadata": {},
   "outputs": [],
   "source": [
    "import re"
   ]
  },
  {
   "cell_type": "code",
   "execution_count": 373,
   "metadata": {},
   "outputs": [],
   "source": [
    "texts =[]\n",
    "for i in text:\n",
    "    text1 = []\n",
    "    i = i.lower()\n",
    "    c = re.sub(r'\\n','',i)\n",
    "    text1.append(''.join(c))\n",
    "    for i in text1:\n",
    "        d = (re.findall('[a-z]+',i))\n",
    "        texts.append(' '.join(d))"
   ]
  },
  {
   "cell_type": "code",
   "execution_count": 374,
   "metadata": {},
   "outputs": [
    {
     "data": {
      "text/plain": [
       "20000"
      ]
     },
     "execution_count": 374,
     "metadata": {},
     "output_type": "execute_result"
    }
   ],
   "source": [
    "len(texts)"
   ]
  },
  {
   "cell_type": "code",
   "execution_count": 375,
   "metadata": {},
   "outputs": [],
   "source": [
    "sentence_tokenize =[]\n",
    "from nltk import sent_tokenize\n",
    "for paragraph in texts:\n",
    "    for sentence in sent_tokenize(paragraph):\n",
    "        sentence_tokenize.append(sentence)\n",
    "        "
   ]
  },
  {
   "cell_type": "code",
   "execution_count": 376,
   "metadata": {},
   "outputs": [
    {
     "data": {
      "text/plain": [
       "19996"
      ]
     },
     "execution_count": 376,
     "metadata": {},
     "output_type": "execute_result"
    }
   ],
   "source": [
    "len(sentence_tokenize)"
   ]
  },
  {
   "cell_type": "code",
   "execution_count": 377,
   "metadata": {},
   "outputs": [],
   "source": [
    "word_tokenize = []\n",
    "full_word_sent =[]\n",
    "from nltk import wordpunct_tokenize\n",
    "for sentence in texts:\n",
    "    words =[]\n",
    "    for word in wordpunct_tokenize(sentence):\n",
    "        word_tokenize.append(word)\n",
    "        words.append(word)\n",
    "    full_word_sent.append(words)"
   ]
  },
  {
   "cell_type": "code",
   "execution_count": 378,
   "metadata": {},
   "outputs": [
    {
     "data": {
      "text/plain": [
       "20000"
      ]
     },
     "execution_count": 378,
     "metadata": {},
     "output_type": "execute_result"
    }
   ],
   "source": [
    "len(full_word_sent)"
   ]
  },
  {
   "cell_type": "code",
   "execution_count": 379,
   "metadata": {},
   "outputs": [],
   "source": [
    "from nltk.corpus import stopwords"
   ]
  },
  {
   "cell_type": "code",
   "execution_count": 380,
   "metadata": {},
   "outputs": [],
   "source": [
    "stopwords = set(stopwords.words('english'))"
   ]
  },
  {
   "cell_type": "code",
   "execution_count": 381,
   "metadata": {},
   "outputs": [],
   "source": [
    "words_token =[]\n",
    "for sent in full_word_sent:\n",
    "    word_token =[]\n",
    "    for word in sent:\n",
    "        if word not in stopwords:\n",
    "            word_token.append(word)\n",
    "    words_token.append(word_token)"
   ]
  },
  {
   "cell_type": "code",
   "execution_count": null,
   "metadata": {},
   "outputs": [],
   "source": []
  },
  {
   "cell_type": "code",
   "execution_count": 382,
   "metadata": {},
   "outputs": [],
   "source": [
    "from nltk import pos_tag\n",
    "from nltk.corpus import wordnet as wn\n",
    "from nltk.stem.wordnet import WordNetLemmatizer\n",
    "\n",
    "tag_map = {\n",
    "    'N' : wn.NOUN,\n",
    "    'V': wn.VERB,\n",
    "    'R': wn.ADV,\n",
    "    'J': wn.ADJ\n",
    "}"
   ]
  },
  {
   "cell_type": "code",
   "execution_count": 383,
   "metadata": {},
   "outputs": [],
   "source": [
    "lemmentizer = WordNetLemmatizer()"
   ]
  },
  {
   "cell_type": "code",
   "execution_count": 384,
   "metadata": {},
   "outputs": [],
   "source": [
    "#tags =[]\n",
    "#for pos in words_token:\n",
    " #   tp =[]\n",
    "  #  for token,tag in pos_tag(pos):\n",
    "            #tp.append((token,tag_map.get(tag[0])))\n",
    "   # tags.append(tp)\n",
    "    \n",
    "        \n",
    "        "
   ]
  },
  {
   "cell_type": "code",
   "execution_count": 385,
   "metadata": {},
   "outputs": [],
   "source": [
    "tags =[]\n",
    "for pos in words_token:\n",
    "    tp =[]\n",
    "    for word in pos:\n",
    "            tp.append(lemmentizer.lemmatize(word))\n",
    "    tags.append(tp)"
   ]
  },
  {
   "cell_type": "code",
   "execution_count": 386,
   "metadata": {},
   "outputs": [
    {
     "data": {
      "text/plain": [
       "20000"
      ]
     },
     "execution_count": 386,
     "metadata": {},
     "output_type": "execute_result"
    }
   ],
   "source": [
    "len(tags)\n"
   ]
  },
  {
   "cell_type": "code",
   "execution_count": 387,
   "metadata": {},
   "outputs": [],
   "source": [
    "data_all['tag'] = tags"
   ]
  },
  {
   "cell_type": "code",
   "execution_count": 388,
   "metadata": {},
   "outputs": [],
   "source": [
    "data_all['tag'] = data_all['tag'].apply(' '.join)"
   ]
  },
  {
   "cell_type": "code",
   "execution_count": 389,
   "metadata": {},
   "outputs": [],
   "source": [
    "#data_x['tag'] = tags"
   ]
  },
  {
   "cell_type": "code",
   "execution_count": 390,
   "metadata": {},
   "outputs": [],
   "source": [
    "#data_x['tag'] = data_x['tag'].apply(' '.join)"
   ]
  },
  {
   "cell_type": "code",
   "execution_count": 391,
   "metadata": {},
   "outputs": [],
   "source": [
    "from sklearn.feature_extraction.text import TfidfVectorizer"
   ]
  },
  {
   "cell_type": "code",
   "execution_count": 392,
   "metadata": {},
   "outputs": [],
   "source": [
    "tf = TfidfVectorizer(min_df=3,max_features=5000)"
   ]
  },
  {
   "cell_type": "code",
   "execution_count": 393,
   "metadata": {},
   "outputs": [],
   "source": [
    "#train = tf.fit(data_x['tag'])"
   ]
  },
  {
   "cell_type": "code",
   "execution_count": 394,
   "metadata": {},
   "outputs": [],
   "source": [
    "train = tf.fit(data_all['tag'])"
   ]
  },
  {
   "cell_type": "code",
   "execution_count": 395,
   "metadata": {},
   "outputs": [],
   "source": [
    "#train_fit = pd.DataFrame(train.transform(data_x['tag']).todense(),columns=train.get_feature_names())"
   ]
  },
  {
   "cell_type": "code",
   "execution_count": 396,
   "metadata": {},
   "outputs": [],
   "source": [
    "train_fit = pd.DataFrame(train.transform(data_all['tag']).todense(),columns=train.get_feature_names())"
   ]
  },
  {
   "cell_type": "code",
   "execution_count": 397,
   "metadata": {},
   "outputs": [
    {
     "data": {
      "text/plain": [
       "(20000, 5000)"
      ]
     },
     "execution_count": 397,
     "metadata": {},
     "output_type": "execute_result"
    }
   ],
   "source": [
    "train_fit.shape"
   ]
  },
  {
   "cell_type": "code",
   "execution_count": 398,
   "metadata": {},
   "outputs": [],
   "source": [
    "data_y = data_x.iloc[:,1:-1]"
   ]
  },
  {
   "cell_type": "code",
   "execution_count": null,
   "metadata": {},
   "outputs": [],
   "source": []
  },
  {
   "cell_type": "code",
   "execution_count": 399,
   "metadata": {},
   "outputs": [
    {
     "data": {
      "text/plain": [
       "Index(['user_id', 'useful', 'business_id', 'address', 'funny', 'name',\n",
       "       'neighborhood'],\n",
       "      dtype='object')"
      ]
     },
     "execution_count": 399,
     "metadata": {},
     "output_type": "execute_result"
    }
   ],
   "source": [
    "data_y.columns"
   ]
  },
  {
   "cell_type": "code",
   "execution_count": 400,
   "metadata": {},
   "outputs": [],
   "source": [
    "#data_concat = pd.concat([train_fit,data_y],axis=1)"
   ]
  },
  {
   "cell_type": "code",
   "execution_count": 401,
   "metadata": {},
   "outputs": [],
   "source": [
    "#data_concat.head()"
   ]
  },
  {
   "cell_type": "code",
   "execution_count": 402,
   "metadata": {},
   "outputs": [],
   "source": [
    "from sklearn.model_selection import train_test_split"
   ]
  },
  {
   "cell_type": "code",
   "execution_count": 403,
   "metadata": {},
   "outputs": [],
   "source": [
    "#X_train,X_test,Y_train,Y_test = train_test_split(data_concat,y,train_size=0.8,test_size=0.2)"
   ]
  },
  {
   "cell_type": "code",
   "execution_count": 404,
   "metadata": {},
   "outputs": [],
   "source": [
    "X_train,X_test,Y_train,Y_test = train_test_split(train_fit,data_all['stars_x'],train_size=0.8,test_size=0.2)"
   ]
  },
  {
   "cell_type": "code",
   "execution_count": 405,
   "metadata": {},
   "outputs": [],
   "source": [
    "from sklearn.linear_model import LogisticRegression\n"
   ]
  },
  {
   "cell_type": "code",
   "execution_count": 406,
   "metadata": {},
   "outputs": [],
   "source": [
    "regression = LogisticRegression(C=1)"
   ]
  },
  {
   "cell_type": "code",
   "execution_count": 407,
   "metadata": {},
   "outputs": [
    {
     "data": {
      "text/plain": [
       "LogisticRegression(C=1, class_weight=None, dual=False, fit_intercept=True,\n",
       "          intercept_scaling=1, max_iter=100, multi_class='ovr', n_jobs=1,\n",
       "          penalty='l2', random_state=None, solver='liblinear', tol=0.0001,\n",
       "          verbose=0, warm_start=False)"
      ]
     },
     "execution_count": 407,
     "metadata": {},
     "output_type": "execute_result"
    }
   ],
   "source": [
    "regression.fit(X_train,Y_train)"
   ]
  },
  {
   "cell_type": "code",
   "execution_count": 408,
   "metadata": {},
   "outputs": [],
   "source": [
    "y_pred = regression.predict(X_test)"
   ]
  },
  {
   "cell_type": "code",
   "execution_count": 409,
   "metadata": {},
   "outputs": [],
   "source": [
    "from sklearn.metrics import confusion_matrix"
   ]
  },
  {
   "cell_type": "code",
   "execution_count": 410,
   "metadata": {},
   "outputs": [],
   "source": [
    "conf = confusion_matrix(Y_test,y_pred)"
   ]
  },
  {
   "cell_type": "code",
   "execution_count": 411,
   "metadata": {},
   "outputs": [
    {
     "data": {
      "text/plain": [
       "(4000,)"
      ]
     },
     "execution_count": 411,
     "metadata": {},
     "output_type": "execute_result"
    }
   ],
   "source": [
    "Y_test.shape"
   ]
  },
  {
   "cell_type": "code",
   "execution_count": 412,
   "metadata": {},
   "outputs": [
    {
     "data": {
      "text/plain": [
       "array([[ 589,   42,  174],\n",
       "       [ 129,  107,  376],\n",
       "       [  44,   34, 2505]], dtype=int64)"
      ]
     },
     "execution_count": 412,
     "metadata": {},
     "output_type": "execute_result"
    }
   ],
   "source": [
    "conf"
   ]
  },
  {
   "cell_type": "code",
   "execution_count": 413,
   "metadata": {},
   "outputs": [
    {
     "data": {
      "text/plain": [
       "0.80025"
      ]
     },
     "execution_count": 413,
     "metadata": {},
     "output_type": "execute_result"
    }
   ],
   "source": [
    "sum(conf.diagonal())/4000"
   ]
  },
  {
   "cell_type": "code",
   "execution_count": 414,
   "metadata": {},
   "outputs": [],
   "source": [
    "from sklearn.naive_bayes import MultinomialNB "
   ]
  },
  {
   "cell_type": "code",
   "execution_count": 415,
   "metadata": {},
   "outputs": [],
   "source": [
    "from sklearn.naive_bayes import BernoulliNB"
   ]
  },
  {
   "cell_type": "code",
   "execution_count": 416,
   "metadata": {},
   "outputs": [
    {
     "data": {
      "text/plain": [
       "0.74725"
      ]
     },
     "execution_count": 416,
     "metadata": {},
     "output_type": "execute_result"
    }
   ],
   "source": [
    "regression = MultinomialNB()\n",
    "regression.fit(X_train,Y_train)\n",
    "y_pred = regression.predict(X_test)\n",
    "from sklearn.metrics import confusion_matrix\n",
    "conf = confusion_matrix(Y_test,y_pred)\n",
    "sum(conf.diagonal())/4000"
   ]
  },
  {
   "cell_type": "code",
   "execution_count": 417,
   "metadata": {},
   "outputs": [
    {
     "data": {
      "text/plain": [
       "array([[ 447,    7,  351],\n",
       "       [  66,    3,  543],\n",
       "       [  28,   16, 2539]], dtype=int64)"
      ]
     },
     "execution_count": 417,
     "metadata": {},
     "output_type": "execute_result"
    }
   ],
   "source": [
    "conf"
   ]
  },
  {
   "cell_type": "code",
   "execution_count": 418,
   "metadata": {},
   "outputs": [
    {
     "data": {
      "text/plain": [
       "0.70025"
      ]
     },
     "execution_count": 418,
     "metadata": {},
     "output_type": "execute_result"
    }
   ],
   "source": [
    "regression = BernoulliNB()\n",
    "regression.fit(X_train,Y_train)\n",
    "y_pred = regression.predict(X_test)\n",
    "from sklearn.metrics import confusion_matrix\n",
    "conf = confusion_matrix(Y_test,y_pred)\n",
    "sum(conf.diagonal())/4000"
   ]
  },
  {
   "cell_type": "code",
   "execution_count": 419,
   "metadata": {},
   "outputs": [
    {
     "data": {
      "text/plain": [
       "array([[ 476,  104,  225],\n",
       "       [ 113,  226,  273],\n",
       "       [  67,  417, 2099]], dtype=int64)"
      ]
     },
     "execution_count": 419,
     "metadata": {},
     "output_type": "execute_result"
    }
   ],
   "source": [
    "conf"
   ]
  },
  {
   "cell_type": "code",
   "execution_count": 420,
   "metadata": {},
   "outputs": [],
   "source": [
    "#data_x = pd.DataFrame(data1['city'],y)"
   ]
  },
  {
   "cell_type": "code",
   "execution_count": 421,
   "metadata": {},
   "outputs": [],
   "source": [
    "#data_x.reset_index(inplace= True)"
   ]
  },
  {
   "cell_type": "code",
   "execution_count": 422,
   "metadata": {},
   "outputs": [],
   "source": [
    "#data_x.groupby(by='stars_x').mean()"
   ]
  },
  {
   "cell_type": "code",
   "execution_count": 423,
   "metadata": {},
   "outputs": [],
   "source": [
    "#y.value_counts()"
   ]
  },
  {
   "cell_type": "code",
   "execution_count": null,
   "metadata": {},
   "outputs": [],
   "source": []
  },
  {
   "cell_type": "code",
   "execution_count": null,
   "metadata": {},
   "outputs": [],
   "source": []
  },
  {
   "cell_type": "code",
   "execution_count": null,
   "metadata": {},
   "outputs": [],
   "source": []
  }
 ],
 "metadata": {
  "kernelspec": {
   "display_name": "Python 3",
   "language": "python",
   "name": "python3"
  },
  "language_info": {
   "codemirror_mode": {
    "name": "ipython",
    "version": 3
   },
   "file_extension": ".py",
   "mimetype": "text/x-python",
   "name": "python",
   "nbconvert_exporter": "python",
   "pygments_lexer": "ipython3",
   "version": "3.6.4"
  }
 },
 "nbformat": 4,
 "nbformat_minor": 2
}
